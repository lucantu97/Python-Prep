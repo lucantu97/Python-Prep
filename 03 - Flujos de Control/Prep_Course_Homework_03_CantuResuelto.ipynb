{
 "cells": [
  {
   "attachments": {},
   "cell_type": "markdown",
   "metadata": {},
   "source": [
    "1) Crear una variable que contenga un elemento del conjunto de números enteros y luego imprimir por pantalla si es mayor o menor a cero"
   ]
  },
  {
   "cell_type": "code",
   "execution_count": 2,
   "metadata": {},
   "outputs": [
    {
     "name": "stdout",
     "output_type": "stream",
     "text": [
      "Es mayor a cero\n"
     ]
    }
   ],
   "source": [
    "a = 26\n",
    "if (a > 0):\n",
    "    print(\"Es mayor a cero\")\n",
    "else:\n",
    "    print(\"Es menor a cero\")"
   ]
  },
  {
   "attachments": {},
   "cell_type": "markdown",
   "metadata": {},
   "source": [
    "2) Crear dos variables y un condicional que informe si son del mismo tipo de dato"
   ]
  },
  {
   "cell_type": "code",
   "execution_count": 4,
   "metadata": {},
   "outputs": [
    {
     "name": "stdout",
     "output_type": "stream",
     "text": [
      "Son del mismo tipo\n"
     ]
    }
   ],
   "source": [
    "b = 26.7\n",
    "if( type(a) == type(b)):\n",
    "    print(\"Son del mismo tipo\")\n",
    "else:\n",
    "    print(\"Son distinto tipo\")\n"
   ]
  },
  {
   "attachments": {},
   "cell_type": "markdown",
   "metadata": {},
   "source": [
    "3) Para los valores enteros del 1 al 20, imprimir por pantalla si es par o impar\n"
   ]
  },
  {
   "cell_type": "code",
   "execution_count": null,
   "metadata": {},
   "outputs": [],
   "source": [
    "for i in range (1,21):\n",
    "    if (i % 2 == 0):\n",
    "        print(str(i) + \"Es par\")\n",
    "    else:\n",
    "        print(str(i) + \"Es inpar\")"
   ]
  },
  {
   "attachments": {},
   "cell_type": "markdown",
   "metadata": {},
   "source": [
    "4) En un ciclo for mostrar para los valores entre 0 y 5 el resultado de elevarlo a la potencia igual a 3"
   ]
  },
  {
   "cell_type": "code",
   "execution_count": 2,
   "metadata": {},
   "outputs": [
    {
     "name": "stdout",
     "output_type": "stream",
     "text": [
      "0\n",
      "1\n",
      "8\n",
      "27\n",
      "64\n",
      "125\n"
     ]
    }
   ],
   "source": [
    "for i in range (0, 6):\n",
    "    print(i ** 3)"
   ]
  },
  {
   "attachments": {},
   "cell_type": "markdown",
   "metadata": {},
   "source": [
    "5) Crear una variable que contenga un número entero y realizar un ciclo for la misma cantidad de ciclos"
   ]
  },
  {
   "cell_type": "code",
   "execution_count": null,
   "metadata": {},
   "outputs": [],
   "source": [
    "n = 20\n",
    "j = 1\n",
    "for i in range(j, n):\n",
    "    continue"
   ]
  },
  {
   "attachments": {},
   "cell_type": "markdown",
   "metadata": {},
   "source": [
    "6) Utilizar un ciclo while para realizar el factorial de un número guardado en una variable, sólo si la variable contiene un número entero mayor a 0"
   ]
  },
  {
   "cell_type": "code",
   "execution_count": null,
   "metadata": {},
   "outputs": [],
   "source": [
    "numero = 5\n",
    "factorial = 1\n",
    "while (numero > 1):\n",
    "    factorial *= numero\n",
    "    print(factorial)\n",
    "    numero -= 1"
   ]
  },
  {
   "attachments": {},
   "cell_type": "markdown",
   "metadata": {},
   "source": [
    "7) Crear un ciclo for dentro de un ciclo while\n"
   ]
  },
  {
   "cell_type": "code",
   "execution_count": null,
   "metadata": {},
   "outputs": [],
   "source": [
    "numero = 5\n",
    "\n",
    "while (numero > 1):\n",
    "    for i in range (numero):\n",
    "        print(str(i) + \" numero de iteracion.\")\n",
    "        numero -= 1"
   ]
  },
  {
   "attachments": {},
   "cell_type": "markdown",
   "metadata": {},
   "source": [
    "8) Crear un ciclo while dentro de un ciclo for"
   ]
  },
  {
   "cell_type": "code",
   "execution_count": null,
   "metadata": {},
   "outputs": [],
   "source": [
    "numero = 5\n",
    "for i in range(numero):\n",
    "    while(numero > 1):\n",
    "        print(numero * 2)\n",
    "        print(str(numero) + \" cantidad de iteraciones.\")\n",
    "        numero -= 1"
   ]
  },
  {
   "attachments": {},
   "cell_type": "markdown",
   "metadata": {},
   "source": [
    "9) Imprimir los números primos existentes entre 0 y 30"
   ]
  },
  {
   "cell_type": "code",
   "execution_count": null,
   "metadata": {},
   "outputs": [],
   "source": [
    "for n in range (0, 31):\n",
    "    es_primo = True\n",
    "    for i in range (2, n):\n",
    "        if (n % i == 0):\n",
    "            es_primo = False\n",
    "    if (es_primo):\n",
    "        print(n, ' es primo')"
   ]
  },
  {
   "attachments": {},
   "cell_type": "markdown",
   "metadata": {},
   "source": [
    "\n",
    "10) ¿Se puede mejorar el proceso del punto 9? Utilizar las sentencias break y/ó continue para tal fin"
   ]
  },
  {
   "cell_type": "code",
   "execution_count": null,
   "metadata": {},
   "outputs": [],
   "source": [
    "cantidad_ciclo = 0\n",
    "for n in range (0, 31):\n",
    "    es_primo = True\n",
    "    for i in range (2, n):\n",
    "        cantidad_ciclo += 1\n",
    "        if (n % i == 0):\n",
    "            es_primo = False\n",
    "            break\n",
    "    if (es_primo):\n",
    "        print(n, ' es primo')\n",
    "print('Cantidad ciclos: ',cantidad_ciclo)"
   ]
  },
  {
   "attachments": {},
   "cell_type": "markdown",
   "metadata": {},
   "source": [
    "13) Aplicando continue, armar un ciclo while que solo imprima los valores divisibles por 12, dentro del rango de números de 100 a 300"
   ]
  },
  {
   "cell_type": "code",
   "execution_count": null,
   "metadata": {},
   "outputs": [],
   "source": [
    "n = 99\n",
    "\n",
    "while(n <= 300):\n",
    "    n += 1\n",
    "    if ( n % 12 != 0):\n",
    "        continue\n",
    "    print(n, ' es divisible por 12')\n",
    "    "
   ]
  },
  {
   "attachments": {},
   "cell_type": "markdown",
   "metadata": {},
   "source": [
    "14) Utilizar la función **input()** que permite hacer ingresos por teclado, para encontrar números primos y dar la opción al usario de buscar el siguiente"
   ]
  },
  {
   "cell_type": "code",
   "execution_count": 9,
   "metadata": {},
   "outputs": [
    {
     "name": "stdout",
     "output_type": "stream",
     "text": [
      "13  es primo\n"
     ]
    }
   ],
   "source": [
    "a = int(input('Ingrese un valor'))\n",
    "\n",
    "if(a % 2 != 0):\n",
    "    print(a, 'es primo')"
   ]
  }
 ],
 "metadata": {
  "kernelspec": {
   "display_name": "Python 3",
   "language": "python",
   "name": "python3"
  },
  "language_info": {
   "codemirror_mode": {
    "name": "ipython",
    "version": 3
   },
   "file_extension": ".py",
   "mimetype": "text/x-python",
   "name": "python",
   "nbconvert_exporter": "python",
   "pygments_lexer": "ipython3",
   "version": "3.10.4 (tags/v3.10.4:9d38120, Mar 23 2022, 23:13:41) [MSC v.1929 64 bit (AMD64)]"
  },
  "orig_nbformat": 4,
  "vscode": {
   "interpreter": {
    "hash": "38218190b0f063562c63d5ac7eff63dd76e2c2f8431ae7e18a7c74ad1b926bd1"
   }
  }
 },
 "nbformat": 4,
 "nbformat_minor": 2
}
